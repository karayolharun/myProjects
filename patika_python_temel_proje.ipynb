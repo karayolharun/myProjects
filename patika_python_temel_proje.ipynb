{
  "nbformat": 4,
  "nbformat_minor": 0,
  "metadata": {
    "colab": {
      "name": "patika_python_temel_proje.ipynb",
      "private_outputs": true,
      "provenance": [],
      "collapsed_sections": [],
      "authorship_tag": "ABX9TyPFXf25yRSwd5cZPrce/7p5",
      "include_colab_link": true
    },
    "kernelspec": {
      "name": "python3",
      "display_name": "Python 3"
    },
    "language_info": {
      "name": "python"
    }
  },
  "cells": [
    {
      "cell_type": "markdown",
      "metadata": {
        "id": "view-in-github",
        "colab_type": "text"
      },
      "source": [
        "<a href=\"https://colab.research.google.com/github/karayolharun/myProjects/blob/master/patika_python_temel_proje.ipynb\" target=\"_parent\"><img src=\"https://colab.research.google.com/assets/colab-badge.svg\" alt=\"Open In Colab\"/></a>"
      ]
    },
    {
      "cell_type": "markdown",
      "metadata": {
        "id": "nmLBUbdkHIsB"
      },
      "source": [
        "1- Bir listeyi düzleştiren (flatten) fonksiyon yazın. Elemanları birden çok katmanlı listtlerden ([[3],2] gibi) oluşabileceği gibi, non-scalar verilerden de oluşabilir. Örnek olarak:\n",
        "\n",
        "input: [[1,'a',['cat'],2],[[[3]],'dog'],4,5]\n",
        "\n",
        "output: [1,'a','cat',2,3,'dog',4,5]"
      ]
    },
    {
      "cell_type": "code",
      "metadata": {
        "id": "zSK4d8__HM4u"
      },
      "source": [
        "m =  [[1,'a',['cat'],2],[[[3]],'dog'],4,5]\n",
        "\n",
        "res = []\n",
        "\n",
        "#recursion kullanılır\n",
        "def flatten_all(mylist,res):\n",
        "  \n",
        "  for i in range(len(mylist)):\n",
        "    if type(mylist[i]) != list:\n",
        "      res.append(mylist[i])\n",
        "\n",
        "    else:\n",
        "      flatten_all(mylist[i],res)\n",
        "\n",
        "  return res\n",
        "\n",
        "\n",
        "print(flatten_all(m,res))"
      ],
      "execution_count": null,
      "outputs": []
    },
    {
      "cell_type": "markdown",
      "metadata": {
        "id": "X8lVqdw81m8d"
      },
      "source": [
        "2- Verilen listenin içindeki elemanları tersine döndüren bir fonksiyon yazın. Eğer listenin içindeki elemanlar da liste içeriyorsa onların elemanlarını da tersine döndürün. Örnek olarak:\n",
        "\n",
        "input: [[1, 2], [3, 4], [5, 6, 7]]\n",
        "\n",
        "output: [[[7, 6, 5], [4, 3], [2, 1]]"
      ]
    },
    {
      "cell_type": "code",
      "metadata": {
        "id": "_VcbT06Yiixd"
      },
      "source": [
        "mylist = [[1, 2], [3, 4], [5, 6, 7],[[9,8,7],[11,12]]]\n",
        "\n",
        "#recursion kullanılır\n",
        "def reverse_all(l):\n",
        "\n",
        "  l.reverse()\n",
        "\n",
        "  for x in l:\n",
        "    if type(x) == list:\n",
        "      reverse_all(x)\n",
        "    \n",
        "  return l\n",
        "\n",
        "print(reverse_all(mylist))\n",
        "\n",
        "   \n",
        "\n",
        "\n"
      ],
      "execution_count": null,
      "outputs": []
    }
  ]
}